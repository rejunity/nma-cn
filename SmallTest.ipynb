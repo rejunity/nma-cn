{
  "nbformat": 4,
  "nbformat_minor": 0,
  "metadata": {
    "colab": {
      "name": "Untitled1.ipynb",
      "provenance": [],
      "collapsed_sections": [],
      "authorship_tag": "ABX9TyNTXWfAsnln3FCb5l/NJ7+I",
      "include_colab_link": true
    },
    "kernelspec": {
      "name": "python3",
      "display_name": "Python 3"
    },
    "language_info": {
      "name": "python"
    }
  },
  "cells": [
    {
      "cell_type": "markdown",
      "metadata": {
        "id": "view-in-github",
        "colab_type": "text"
      },
      "source": [
        "<a href=\"https://colab.research.google.com/github/rejunity/nma-cn/blob/main/SmallTest.ipynb\" target=\"_parent\"><img src=\"https://colab.research.google.com/assets/colab-badge.svg\" alt=\"Open In Colab\"/></a>"
      ]
    },
    {
      "cell_type": "markdown",
      "metadata": {
        "id": "XPplmJkBlz-o"
      },
      "source": [
        "# **Small** test"
      ]
    },
    {
      "cell_type": "code",
      "metadata": {
        "id": "HUs_cew5lvOT",
        "colab": {
          "base_uri": "https://localhost:8080/"
        },
        "outputId": "cb125e28-1f90-4d66-b01e-15e0b301accd"
      },
      "source": [
        "print(\"hello world!\")"
      ],
      "execution_count": 10,
      "outputs": [
        {
          "output_type": "stream",
          "text": [
            "hello world!\n"
          ],
          "name": "stdout"
        }
      ]
    },
    {
      "cell_type": "code",
      "metadata": {
        "id": "El31LgW2nuOC",
        "colab": {
          "base_uri": "https://localhost:8080/"
        },
        "outputId": "173d00a5-244d-4450-8b5e-09e18c52dcd7"
      },
      "source": [
        "for i in range(3): # shrot range\n",
        "  print(i)"
      ],
      "execution_count": 11,
      "outputs": [
        {
          "output_type": "stream",
          "text": [
            "0\n",
            "1\n",
            "2\n"
          ],
          "name": "stdout"
        }
      ]
    },
    {
      "cell_type": "markdown",
      "metadata": {
        "id": "RJFW8RTNn1xS"
      },
      "source": [
        "More text"
      ]
    }
  ]
}