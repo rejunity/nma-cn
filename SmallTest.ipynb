{
  "nbformat": 4,
  "nbformat_minor": 0,
  "metadata": {
    "colab": {
      "name": "Untitled1.ipynb",
      "provenance": [],
      "collapsed_sections": [],
      "authorship_tag": "ABX9TyOBDO2W5oekj3MP83ZZDP/t",
      "include_colab_link": true
    },
    "kernelspec": {
      "name": "python3",
      "display_name": "Python 3"
    },
    "language_info": {
      "name": "python"
    }
  },
  "cells": [
    {
      "cell_type": "markdown",
      "metadata": {
        "id": "view-in-github",
        "colab_type": "text"
      },
      "source": [
        "<a href=\"https://colab.research.google.com/github/rejunity/nma-cn/blob/main/SmallTest.ipynb\" target=\"_parent\"><img src=\"https://colab.research.google.com/assets/colab-badge.svg\" alt=\"Open In Colab\"/></a>"
      ]
    },
    {
      "cell_type": "markdown",
      "metadata": {
        "id": "XPplmJkBlz-o"
      },
      "source": [
        "Small test"
      ]
    },
    {
      "cell_type": "code",
      "metadata": {
        "id": "HUs_cew5lvOT"
      },
      "source": [
        "print(\"hello world!\")"
      ],
      "execution_count": null,
      "outputs": []
    }
  ]
}