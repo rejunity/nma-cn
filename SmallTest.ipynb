{
  "nbformat": 4,
  "nbformat_minor": 0,
  "metadata": {
    "colab": {
      "name": "Untitled1.ipynb",
      "provenance": [],
      "collapsed_sections": [],
      "authorship_tag": "ABX9TyO18BcD6xUL7M62TcDo8dlk",
      "include_colab_link": true
    },
    "kernelspec": {
      "name": "python3",
      "display_name": "Python 3"
    },
    "language_info": {
      "name": "python"
    }
  },
  "cells": [
    {
      "cell_type": "markdown",
      "metadata": {
        "id": "view-in-github",
        "colab_type": "text"
      },
      "source": [
        "<a href=\"https://colab.research.google.com/github/rejunity/nma-cn/blob/main/SmallTest.ipynb\" target=\"_parent\"><img src=\"https://colab.research.google.com/assets/colab-badge.svg\" alt=\"Open In Colab\"/></a>"
      ]
    },
    {
      "cell_type": "markdown",
      "metadata": {
        "id": "XPplmJkBlz-o"
      },
      "source": [
        "# **Small** test"
      ]
    },
    {
      "cell_type": "code",
      "metadata": {
        "id": "HUs_cew5lvOT",
        "colab": {
          "base_uri": "https://localhost:8080/"
        },
        "outputId": "955965ac-9c6b-4173-c216-27fe8b454b49"
      },
      "source": [
        "print(\"hello world!\")"
      ],
      "execution_count": 15,
      "outputs": [
        {
          "output_type": "stream",
          "text": [
            "hello world!\n"
          ],
          "name": "stdout"
        }
      ]
    },
    {
      "cell_type": "code",
      "metadata": {
        "id": "El31LgW2nuOC",
        "colab": {
          "base_uri": "https://localhost:8080/"
        },
        "outputId": "31b59a3a-6736-4374-faaf-14c6a5e8849a"
      },
      "source": [
        "for i in range(10): # mid range\n",
        "  print(i)"
      ],
      "execution_count": 16,
      "outputs": [
        {
          "output_type": "stream",
          "text": [
            "0\n",
            "1\n",
            "2\n",
            "3\n",
            "4\n",
            "5\n",
            "6\n",
            "7\n",
            "8\n",
            "9\n"
          ],
          "name": "stdout"
        }
      ]
    },
    {
      "cell_type": "markdown",
      "metadata": {
        "id": "RJFW8RTNn1xS"
      },
      "source": [
        "More text"
      ]
    }
  ]
}